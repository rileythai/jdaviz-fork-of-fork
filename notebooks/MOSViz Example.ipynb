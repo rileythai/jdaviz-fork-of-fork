{
 "cells": [
  {
   "cell_type": "code",
   "execution_count": null,
   "metadata": {},
   "outputs": [],
   "source": [
    "from jdaviz.configs.mosviz.helper import MosViz"
   ]
  },
  {
   "cell_type": "code",
   "execution_count": null,
   "metadata": {
    "scrolled": false
   },
   "outputs": [],
   "source": [
    "mosviz = MosViz()\n",
    "mosviz.app"
   ]
  },
  {
   "cell_type": "markdown",
   "metadata": {},
   "source": [
    "The MOSViz parsers accepts lists of `Spectrum1D`, `SpectralCube`, and `CCDData` for 1D, 2D, and image data respectively. Alternatively, and the method used below, users can provide lists of file paths and MOSViz will internally attempt to parse them as their respective data type."
   ]
  },
  {
   "cell_type": "code",
   "execution_count": null,
   "metadata": {
    "scrolled": false
   },
   "outputs": [],
   "source": [
    "import glob\n",
    "\n",
    "spectra_1d = []\n",
    "spectra_2d = []\n",
    "images = []\n",
    "\n",
    "from astropy.utils.data import download_file\n",
    "import tempfile\n",
    "import pathlib\n",
    "from zipfile import ZipFile\n",
    "\n",
    "fn = download_file('https://stsci.box.com/shared/static/ovyxi5eund92yoadvv01mynwt8t5n7jv.zip', cache=True)\n",
    "with ZipFile(fn, 'r') as sample_data_zip:\n",
    "    # Unzip sample data archive\n",
    "    sample_data_zip.extractall(tempfile.gettempdir())\n",
    "    \n",
    "level3_path = (pathlib.Path(tempfile.gettempdir()) / 'mosviz_nirspec_data_0.3' / 'level3')\n",
    "for file_path in glob.glob(str(level3_path / '*')):\n",
    "    if 'x1d' in file_path:\n",
    "        spectra_1d.append(file_path)\n",
    "    elif 's2d' in file_path:\n",
    "        spectra_2d.append(file_path)\n",
    "        \n",
    "        \n",
    "for i in range(len(spectra_1d)):\n",
    "    images.append(str(level3_path / 'mosviz_cutouts' / '227.fits'))\n",
    "\n",
    "mosviz.load_data(spectra_1d, spectra_2d, images)\n",
    "# Or alternatively: \n",
    "#mosviz.load_metadata(images)    \n",
    "#mosviz.load_1d_spectra(spectra_1d)\n",
    "#mosviz.load_2d_spectra(spectra_2d)\n",
    "#mosviz.load_images(images)"
   ]
  },
  {
   "cell_type": "code",
   "execution_count": null,
   "metadata": {},
   "outputs": [],
   "source": [
    "mosviz.load_niriss_data(\"/users/rosteen/Data/NIRISS/\")"
   ]
  },
  {
   "cell_type": "code",
   "execution_count": null,
   "metadata": {},
   "outputs": [],
   "source": [
    "tv = mosviz.app.get_viewer('table-viewer')"
   ]
  },
  {
   "cell_type": "code",
   "execution_count": null,
   "metadata": {},
   "outputs": [],
   "source": [
    "tv._selected_data"
   ]
  },
  {
   "cell_type": "code",
   "execution_count": null,
   "metadata": {},
   "outputs": [],
   "source": [
    "mos_data = mosviz.app.session.data_collection['MOS Table']\n",
    "mos_data.components"
   ]
  },
  {
   "cell_type": "code",
   "execution_count": null,
   "metadata": {},
   "outputs": [],
   "source": []
  }
 ],
 "metadata": {
  "kernelspec": {
   "display_name": "Python 3",
   "language": "python",
   "name": "python3"
  },
  "language_info": {
   "codemirror_mode": {
    "name": "ipython",
    "version": 3
   },
   "file_extension": ".py",
   "mimetype": "text/x-python",
   "name": "python",
   "nbconvert_exporter": "python",
   "pygments_lexer": "ipython3",
   "version": "3.8.5"
  }
 },
 "nbformat": 4,
 "nbformat_minor": 4
}
