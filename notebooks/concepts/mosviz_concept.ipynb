{
 "cells": [
  {
   "cell_type": "markdown",
   "metadata": {},
   "source": [
    "# Mosviz jdaviz concept\n",
    "\n",
    "This notebook provides a *concept* of how the Mosviz data-loading and basic interaction workflow operates.\n",
    "\n",
    "Note that there is more discussion about this concept notebook in this PR: https://github.com/spacetelescope/jdaviz/pull/100 - to fully include all thoughts on this notebook it is necessary to read the comment threads there."
   ]
  },
  {
   "cell_type": "code",
   "execution_count": null,
   "metadata": {},
   "outputs": [],
   "source": [
    "from jdaviz.app import Application\n",
    "\n",
    "mosapp = Application('mosviz')\n",
    "mosapp"
   ]
  },
  {
   "cell_type": "markdown",
   "metadata": {},
   "source": [
    "The Mosviz app should now appear in the output of the cell above, although initially with no data loaded. \n",
    "\n",
    "The below is a hacked-together matplotlib layout that shows how the viewers should be laid out (although initially it would appear without data)."
   ]
  },
  {
   "cell_type": "code",
   "execution_count": null,
   "metadata": {},
   "outputs": [],
   "source": [
    "import numpy as np\n",
    "from matplotlib import pyplot as plt"
   ]
  },
  {
   "cell_type": "code",
   "execution_count": null,
   "metadata": {},
   "outputs": [],
   "source": [
    "fake_x = np.linspace(6000, 8000, 1024)\n",
    "fake_y = np.random.randn(len(fake_x)) + 10*np.exp(-0.001*(fake_x-6563)**2) + fake_x/500\n",
    "fake_2d = fake_y[np.newaxis] + np.random.randn(100, 1024)\n",
    "fake_r_im = np.sum((np.mgrid[:128, :128]-64)**2,axis=0)**0.5\n",
    "fake_im = np.random.randn(128, 128) + np.exp(-0.005*fake_r_im**2)*10\n",
    "\n",
    "fig = plt.figure(constrained_layout=True, figsize=(12, 6))\n",
    "gs = fig.add_gridspec(3, 3)\n",
    "\n",
    "ax_im = fig.add_subplot(gs[1:, :1])\n",
    "ax_im.imshow(fake_im)\n",
    "ax_im.add_artist(plt.Rectangle((62, 4), 5, 120, edgecolor='red', facecolor='none'))\n",
    "ax_2d = fig.add_subplot(gs[1, 1:])\n",
    "ax_2d.imshow(fake_2d)\n",
    "ax_1d = fig.add_subplot(gs[2, 1:])\n",
    "ax_1d.plot(fake_x, fake_y)\n",
    "ax_1d.set_xlim(fake_x[0], fake_x[-1])\n",
    "ax_table = fig.add_subplot(gs[0, :])\n",
    "ax_table.text(0.5, 0.5, 'TABLE\\nOF SPECTRA\\n(clicking on a table element updates the view below)', ha='center', va='center')\n",
    "ax_table.set_xticks([])\n",
    "ax_table.set_yticks([]);"
   ]
  },
  {
   "cell_type": "markdown",
   "metadata": {},
   "source": [
    "# Loading data "
   ]
  },
  {
   "cell_type": "markdown",
   "metadata": {},
   "source": [
    "## Load JWST (NIRSpec) data \n",
    "\n",
    "Ideallly JWST NIRSpec MSA data should just be as simple as:"
   ]
  },
  {
   "cell_type": "code",
   "execution_count": null,
   "metadata": {},
   "outputs": [],
   "source": [
    "mosapp.load_data('/path/to/downloaded/nirspec/data')"
   ]
  },
  {
   "cell_type": "markdown",
   "metadata": {},
   "source": [
    "And that should load up *everything* - images, spectra, and the data table."
   ]
  },
  {
   "cell_type": "markdown",
   "metadata": {},
   "source": [
    "## Load other MOS data\n",
    "\n",
    "For other data sets Mosviz doesn't natively understand, the user will have to provide the data directly. It should be possible to load things piecemeal, and just have only the relevant viewers \"recognize\" their existence.  They should leverage astropy objects where possible so that the I/O doesn't have to be re-implemented:"
   ]
  },
  {
   "cell_type": "code",
   "execution_count": null,
   "metadata": {},
   "outputs": [],
   "source": [
    "from specutils import SpectrumCollection\n",
    "\n",
    "# this also be a complicated data-loading cell, but the result should be a SpectrumCollection with N spectra\n",
    "spectra = SpectrumCollection.read('/path/to/my/deimos/spectra')\n",
    "mosapp.load_spectra(spectra)"
   ]
  },
  {
   "cell_type": "markdown",
   "metadata": {},
   "source": [
    "This would activate the 1d spectrum view and the table view (which would just have a single column like \"index\") but not the image or 2d spectrum view.  This is the \"minimally useful\" Mosviz. If the user also has 2d spectra available, they can do:"
   ]
  },
  {
   "cell_type": "code",
   "execution_count": null,
   "metadata": {},
   "outputs": [],
   "source": [
    "from astropy.nddata import CCDData\n",
    "\n",
    "spectra2d = []\n",
    "for fn in filenames_2dspectra: #filenames_2dspectra is an array of length N, in the *same order* as the SpectrumCollection\n",
    "    # CCDData should or at least NDData should be the internal representation, but potentially the user\n",
    "    # can just pass in a raw numpy array if they don't want to bother with NDData stuff.  But then we\n",
    "    # have to construct the WCS assuming a pixel-to-pixel \n",
    "    spectra2d.append(CCDData.read(fn))\n",
    "\n",
    "mosapp.load_2d_spectra(spectra2d)"
   ]
  },
  {
   "cell_type": "markdown",
   "metadata": {},
   "source": [
    "Doing the above then activates the 2d spectrum part of the view.  If the 2d spectra have wcs, the wcs is used to tie the 1d and 2d spectra together.  If not, assume a pixel-to-pixel mapping along the x-axis of the spectrum and the images.\n",
    "\n",
    "A similar idiom works for the 2d images:"
   ]
  },
  {
   "cell_type": "code",
   "execution_count": null,
   "metadata": {},
   "outputs": [],
   "source": [
    "images = []\n",
    "for fn in filenames_images: #filenames_images is an array of length N, in the *same order* as the SpectrumCollection\n",
    "    # CCDData should or at least NDData should be the internal representation, but potentially the user\n",
    "    # can just pass in a raw numpy array if they don't want to bother with NDData stuff\n",
    "    images.append(CCDData.read(fn))\n",
    "\n",
    "mosapp.load_images(images)"
   ]
  },
  {
   "cell_type": "markdown",
   "metadata": {},
   "source": [
    "The assumption given no other information is that the center of the image is the center of the slit.  But until the data table is loaded we can't do anything with that, so it just shows the image as-is at this point.\n",
    "\n",
    "Additionally *or* independently from the 2d spectra/image lists, the user can provide the table:"
   ]
  },
  {
   "cell_type": "code",
   "execution_count": null,
   "metadata": {},
   "outputs": [],
   "source": [
    "from astropy import Table\n",
    "\n",
    "table = Table.read('/path/to/my/slit/catalog.ecsv')  # the table must have the same number of rows as spectra in the SpectrumCollection\n",
    "mosapp.load_table(table) "
   ]
  },
  {
   "cell_type": "markdown",
   "metadata": {},
   "source": [
    "Now the table viewer would show all columns in the table in the table viewer.  Additionally, the 2d image view should now be updated based on the presence of certain columns in the table.  Specifically:\n",
    "\n",
    "* if there is a `SkyCoord` object in the table (probably with a special name like 'coordinates'), the 2d image view should be centered on that coordinate by default.\n",
    "* columns defining slit geometry should lead to a slit appearing in the image view.  This would be perhaps \"slit_width\", \"slit_height\", and \"slit_angle\".  They would all need to have units, and then `astropy.regions` can be used to actually make the slits.\n",
    "\n",
    "*Question: how well does this map to NIRSpec data's slit information?  I'm fairly sure that's embedded in the spectrum itself.  So probably the rule is that if there's slit information in the spectrum, use that, but if there's *also* table information, that takes precedence because the user likely put it in intentionally to override the spectrum?*"
   ]
  },
  {
   "cell_type": "markdown",
   "metadata": {},
   "source": [
    "### Alternative approach to loading with a \"main table\"\n",
    "\n",
    "If for whatever reason the above approach does not work, the data table itself can be viewed as a \"main dataset\".  Assuming the data objects are already loaded as above, that would look something like this:"
   ]
  },
  {
   "cell_type": "code",
   "execution_count": null,
   "metadata": {},
   "outputs": [],
   "source": [
    "table = Table.read('/path/to/my/slit/catalog.ecsv')\n",
    "\n",
    "table['mosviz_spectra'] = spectra\n",
    "table['mosviz_2d_spectra'] = spectra2d\n",
    "table['mosviz_images'] = images\n",
    "\n",
    "mosapp.load_data(table)"
   ]
  },
  {
   "cell_type": "markdown",
   "metadata": {},
   "source": [
    "Which would load the same state as the three method calls above.  If a user wanted the \"limited\" version (i.e., missing images or 2d spectra), they just don't add the relevant column to the table.\n",
    "\n",
    "This works because Astropy has a concept of \"mixin columns\" which let python objects with the appropriate leading dimension masquerade as table columns, so this might basically work as-is.  But it's not clear to me that all of the necessary data types support mixin columns right now, so this might require substantial underlying library work."
   ]
  },
  {
   "cell_type": "markdown",
   "metadata": {},
   "source": [
    "## Custom loaders for \"other\" data "
   ]
  },
  {
   "cell_type": "markdown",
   "metadata": {},
   "source": [
    "We should support the option of using an I/O registry for custom loaders.  So then a user can write I/O functions like this:"
   ]
  },
  {
   "cell_type": "code",
   "execution_count": null,
   "metadata": {},
   "outputs": [],
   "source": [
    "from glob import glob\n",
    "\n",
    "@jdaviz.mosvizloader\n",
    "def deimos_loader(mosvizapp, data_directory):\n",
    "    spectrafn = glob(data_directory + _name'spec1d*.fits')\n",
    "    SpectrumCollection([Spectrum1d.read(fn) for fn in spectrafn])\n",
    "    \n",
    "    spectra2dfns = glob(data_directory + _name'spec2d*.fits')\n",
    "    spectra2d = [CCDData.read(fn, unit=u.adu) for fn in spectra2dfns]\n",
    "    \n",
    "    # there's no \"standard\" image format for deimos data, so we don't include images\n",
    "    \n",
    "    table = Table.read(data_directory + 'zspec.fits')\n",
    "    \n",
    "    mosvizapp.load_spectra(spectra)\n",
    "    mosvizapp.load_2d_spectra(spectra2d)\n",
    "    mosvizapp.load_table(table) "
   ]
  },
  {
   "cell_type": "markdown",
   "metadata": {},
   "source": [
    "Which they would use like:"
   ]
  },
  {
   "cell_type": "code",
   "execution_count": null,
   "metadata": {},
   "outputs": [],
   "source": [
    "mosapp.load_data('/path/to/deimos/data/directory', format='deimos')"
   ]
  },
  {
   "cell_type": "markdown",
   "metadata": {},
   "source": [
    "And then have it load the state just like the above.  They might then optionally do their own custom:"
   ]
  },
  {
   "cell_type": "code",
   "execution_count": null,
   "metadata": {},
   "outputs": [],
   "source": [
    "mosapp.load_images(images)"
   ]
  },
  {
   "cell_type": "markdown",
   "metadata": {},
   "source": [
    "Which is science case-specific because there's no standard format.\n",
    "\n",
    "Then we can encourage users to contribute their own loaders to `jdaviz` and build a library of community-provided MOS viewers, just like for `specutils` and the astropy I/O machinery."
   ]
  },
  {
   "cell_type": "markdown",
   "metadata": {},
   "source": [
    "# Important UI interactions\n",
    "\n",
    "## Table interactions\n",
    "\n",
    "* When the user clicks on a table row, that should update the other views to show the spectrum from the selected row\n",
    "* At least some columns should be editable, e.g. a \"redshift\" column or a \"spectrum quality\" column, which the user should be able to access and write out the table like this:"
   ]
  },
  {
   "cell_type": "code",
   "execution_count": null,
   "metadata": {},
   "outputs": [],
   "source": [
    "tab = mosapp.get_data('table')\n",
    "tab['redshift']  #<- a regular Astropy table column but with whatever the current state of the table in the UI\n",
    "tab.write('output.ecsv')  "
   ]
  },
  {
   "cell_type": "markdown",
   "metadata": {},
   "source": [
    "* In the desktop app (but *not* the notebook, if possible) there can be a save button that does exactly the above cell."
   ]
  },
  {
   "cell_type": "markdown",
   "metadata": {},
   "source": [
    "## Spectrum interactions\n",
    "\n",
    "* When the 1d spectrum is zoomed along the x axis, the 2d spectrum should be matched to it (and vice versa).  Y-axis of both should be independent.\n",
    "\n",
    "## Keyboard interactions\n",
    "\n",
    "* There need to be keyboard shortcuts ('{'/'}', or '<'/'>'?  Or tab/ctrl-tab?) that advance to the next spectrum.\n",
    "* There needs to be a way to quickly update a column in a table. e.g. you press \"1\" to label it quickly as \"good spectrum\" or \"2\" as \"bad spectrum\". (this might be a plugin?)\n",
    "* The user should be able to customize that \"quickly update column\".  As a suggestion for how this might work:"
   ]
  },
  {
   "cell_type": "code",
   "execution_count": null,
   "metadata": {},
   "outputs": [],
   "source": [
    "mosapp.set_keyboard_column_mappings({'1': ('spectrum_quality', 'good'), \n",
    "                                     '2': ('spectrum_quality', 'bad'), })"
   ]
  },
  {
   "cell_type": "code",
   "execution_count": null,
   "metadata": {},
   "outputs": [],
   "source": [
    "mosapp.set_keyboard_column_mappings('spectrum_quality')"
   ]
  },
  {
   "cell_type": "markdown",
   "metadata": {},
   "source": [
    "Which tells Mosviz that when the user presses the '1' key, that row's 'spectrum_quality' column should be updated with the value 'good', whereas '2' should update it to 'bad'.\n",
    "\n",
    "* This custom mapping might also be implemented as a plugin, but that should come *after* getting the notebook version working."
   ]
  },
  {
   "cell_type": "markdown",
   "metadata": {},
   "source": [
    "# Additional notebook Glue selection interactions "
   ]
  },
  {
   "cell_type": "markdown",
   "metadata": {},
   "source": [
    "If the user wants the \"full power\" of Glue working with the table, a quick pathway is to have them create additional viewers to create subsets.  For example, suppose the `table` has two rows, one for 'rmag' and another for 'gmag', indicating the 'r' and 'g'-band magnitudes of the objects the spectra are of.  The user could then do:"
   ]
  },
  {
   "cell_type": "code",
   "execution_count": null,
   "metadata": {},
   "outputs": [],
   "source": [
    "tab = mosapp.get_data('table')\n",
    "tab['color'] = tab['gmag'] - tab['rmag']  #<- this should update the data table...\n",
    "\n",
    "mosapp.scatter2d(x='color', y='rmag')"
   ]
  },
  {
   "cell_type": "markdown",
   "metadata": {},
   "source": [
    "Now the user can use glue's selection capabilities to draw a box around a part of the color-magnitude diagram, which highlights only those in the Mosviz UI."
   ]
  },
  {
   "cell_type": "markdown",
   "metadata": {},
   "source": [
    "Initially this would *replace* the \"small panel\" of the Qt Mosviz with all the glue capabilities.  But eventually we would want this workflow to be possible using the more \"general\" Glue UI when that's working."
   ]
  },
  {
   "cell_type": "markdown",
   "metadata": {},
   "source": [
    "# Example of a \"Mosviz app-specific\" method interactions"
   ]
  },
  {
   "cell_type": "markdown",
   "metadata": {},
   "source": [
    "In addition to data-loading, one could imagine wanting to implement things like this:"
   ]
  },
  {
   "cell_type": "code",
   "execution_count": null,
   "metadata": {},
   "outputs": [],
   "source": [
    "mosapp.rescale_both_spectra()"
   ]
  },
  {
   "cell_type": "code",
   "execution_count": null,
   "metadata": {},
   "outputs": [],
   "source": [
    "mosapp.switch_to_spectrum_slits()\n",
    "#vs\n",
    "mosapp.switch_to_table_slits()"
   ]
  },
  {
   "cell_type": "code",
   "execution_count": null,
   "metadata": {},
   "outputs": [],
   "source": [
    "spec1d, spec2d, image2d, tablerow = mosapp.get_current_spectrum()"
   ]
  },
  {
   "cell_type": "markdown",
   "metadata": {},
   "source": [
    "The third cell above in particular is nice because it would otherwise require each viewer being accessed individually, which in the glue-way might be rather awkward to deal with."
   ]
  },
  {
   "cell_type": "markdown",
   "metadata": {},
   "source": [
    "Or going even further to specific science workflows:"
   ]
  },
  {
   "cell_type": "code",
   "execution_count": null,
   "metadata": {},
   "outputs": [],
   "source": [
    "mosapp.compute_redshift_on_all_spectra(...)"
   ]
  },
  {
   "cell_type": "markdown",
   "metadata": {},
   "source": [
    "Although I (Erik) am *not* a fan of that complex of a workflow in one high-level call, it *might* be desirable by the wider science community."
   ]
  },
  {
   "cell_type": "markdown",
   "metadata": {},
   "source": [
    "# \"Helper\" class alternative (see https://github.com/spacetelescope/jdaviz/issues/104 for context)"
   ]
  },
  {
   "cell_type": "code",
   "execution_count": null,
   "metadata": {},
   "outputs": [],
   "source": [
    "from jdaviz.app import Application\n",
    "from jdaviz.mosviz import MosvizHelper\n",
    "\n",
    "app = Application()\n",
    "mosviz = Mosviz(app)\n",
    "\n",
    "mosviz.app.show()"
   ]
  },
  {
   "cell_type": "markdown",
   "metadata": {},
   "source": [
    "A quicker version of the above should be available, which is purely syntactic sugar for the above:"
   ]
  },
  {
   "cell_type": "code",
   "execution_count": null,
   "metadata": {},
   "outputs": [],
   "source": [
    "mosviz = Mosviz()  #<- default app=None would mean \"make a new empty glue Application\"\n",
    "mosviz  # <- Mosviz._repr_html_ just yields whatever the .app.show() gives"
   ]
  },
  {
   "cell_type": "markdown",
   "metadata": {},
   "source": [
    "Then operations that are viz app-specific would be a method on the helper class (for an explanation of these methods, so the above sections of the notebook):"
   ]
  },
  {
   "cell_type": "code",
   "execution_count": null,
   "metadata": {},
   "outputs": [],
   "source": [
    "# this *looks* like the mosviz.app.add_data, but is different in that \n",
    "# it raises an exception if the data is not something Mosviz understands\n",
    "\n",
    "mosviz.load_data('/path/to/downloaded/nirspec/data')"
   ]
  },
  {
   "cell_type": "markdown",
   "metadata": {},
   "source": [
    "And all of the other data-loading methods described in detail above are definitely unique to Mosviz:"
   ]
  },
  {
   "cell_type": "code",
   "execution_count": null,
   "metadata": {},
   "outputs": [],
   "source": [
    "mosviz.load_spectra(spectra)\n",
    "\n",
    "...\n",
    "\n",
    "mosvizapp.load_2d_spectra(spectra2d)\n",
    "\n",
    "...\n",
    "\n",
    "mosapp.load_images(images)\n",
    "\n",
    "...\n",
    "\n",
    "mosapp.load_table(table)"
   ]
  },
  {
   "cell_type": "markdown",
   "metadata": {},
   "source": [
    "As are some of the \"operations\" one wants to do with Mosviz that are specific to that workflow:"
   ]
  },
  {
   "cell_type": "code",
   "execution_count": null,
   "metadata": {},
   "outputs": [],
   "source": [
    "mosviz.set_keyboard_column_mappings({'1': ('spectrum_quality', 'good'), \n",
    "                                     '2': ('spectrum_quality', 'bad'), })"
   ]
  },
  {
   "cell_type": "code",
   "execution_count": null,
   "metadata": {},
   "outputs": [],
   "source": [
    "mosapp.rescale_both_spectra()\n",
    "\n",
    "spec1d, spec2d, image2d, tablerow = mosapp.get_current_object_data()\n",
    "\n",
    "... do something with the above objects ..."
   ]
  },
  {
   "cell_type": "markdown",
   "metadata": {},
   "source": [
    "Then anything that requires using the glue application in a more general mode is done like:"
   ]
  },
  {
   "cell_type": "code",
   "execution_count": null,
   "metadata": {},
   "outputs": [],
   "source": [
    "# Assuming the user has done something with a glue plugin that adds another spectrum to the spectrum view\n",
    "\n",
    "currspec = mosviz.get_data('spectrum-added-by-plugin')\n",
    "\n",
    "... do something with currspec ..."
   ]
  }
 ],
 "metadata": {
  "kernelspec": {
   "display_name": "Python 3 (ipykernel)",
   "language": "python",
   "name": "python3"
  },
  "language_info": {
   "codemirror_mode": {
    "name": "ipython",
    "version": 3
   },
   "file_extension": ".py",
   "mimetype": "text/x-python",
   "name": "python",
   "nbconvert_exporter": "python",
   "pygments_lexer": "ipython3",
   "version": "3.9.7"
  }
 },
 "nbformat": 4,
 "nbformat_minor": 2
}
