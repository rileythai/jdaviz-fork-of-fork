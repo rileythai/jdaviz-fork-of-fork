{
 "cells": [
  {
   "cell_type": "markdown",
   "id": "17b4af6f",
   "metadata": {},
   "source": [
    "# Imviz Demonstration Notebook\n",
    "\n",
    "\n",
    "This notebook demonstrates the Imviz API in the Notebook setting. UI equivalents for these actions, as well as additional documentation about Imviz, can be found here: https://jdaviz.readthedocs.io/en/latest/imviz/"
   ]
  },
  {
   "cell_type": "markdown",
   "id": "7c73155f-c062-461a-8ca7-0891ce142901",
   "metadata": {},
   "source": [
    "Import modules needed for this notebook."
   ]
  },
  {
   "cell_type": "code",
   "execution_count": 1,
   "id": "0915bde6-e3cc-4038-aca1-c2ae852f7a69",
   "metadata": {},
   "outputs": [
    {
     "name": "stderr",
     "output_type": "stream",
     "text": [
      "**WARNING**: LOCAL JWST PRD VERSION PRDOPSSOC-062 CANNOT BE CHECKED AGAINST ONLINE VERSION\n"
     ]
    }
   ],
   "source": [
    "import os\n",
    "import warnings\n",
    "import tempfile\n",
    "\n",
    "import matplotlib.pyplot as plt\n",
    "import numpy as np\n",
    "from astropy import units as u\n",
    "from astropy.coordinates import SkyCoord, Angle\n",
    "from astropy.table import Table\n",
    "from astroquery.mast import Observations\n",
    "from photutils.aperture import CircularAperture, SkyCircularAperture\n",
    "from regions import PixCoord, CirclePixelRegion, CircleSkyRegion\n",
    "\n",
    "from ipygoldenlayout import GoldenLayout\n",
    "from ipysplitpanes import SplitPanes\n",
    "import ipyvue\n",
    "\n",
    "import jdaviz\n",
    "from jdaviz.app import custom_components\n",
    "from jdaviz import Imviz"
   ]
  },
  {
   "cell_type": "markdown",
   "id": "dc45bbab-ddb7-4d24-8066-998a1ba17fd3",
   "metadata": {},
   "source": [
    "We also need this to display Matplotlib in the notebook later."
   ]
  },
  {
   "cell_type": "code",
   "execution_count": null,
   "id": "53fb47da-0427-4a43-9d11-39567a12cdb0",
   "metadata": {},
   "outputs": [],
   "source": [
    "# %matplotlib inline"
   ]
  },
  {
   "cell_type": "code",
   "execution_count": null,
   "id": "3dee4894-5e9c-4f5a-b991-2cf35dc82a98",
   "metadata": {},
   "outputs": [],
   "source": [
    "SplitPanes()\n",
    "GoldenLayout()\n",
    "for name, path in custom_components.items():\n",
    "    ipyvue.register_component_from_file(None, name, os.path.join(os.path.dirname(jdaviz.__file__), path))\n",
    "\n",
    "ipyvue.register_component_from_file('g-viewer-tab', \"container.vue\", jdaviz.__file__)\n"
   ]
  },
  {
   "cell_type": "markdown",
   "id": "d1120d18-65a4-41ec-b831-bc3637718b90",
   "metadata": {},
   "source": [
    "We create an Imviz instance and grab the default viewer instance as well."
   ]
  },
  {
   "cell_type": "code",
   "execution_count": null,
   "id": "0e81c635-97eb-459c-bfc0-3136839c2844",
   "metadata": {},
   "outputs": [],
   "source": [
    "imviz = Imviz()\n",
    "viewer = imviz.default_viewer"
   ]
  },
  {
   "cell_type": "markdown",
   "id": "60eb5782-264f-4af4-bb6e-ae583398277d",
   "metadata": {},
   "source": [
    "Now we download some data, using `astroquery` to retrieve the files from\n",
    "[MAST](https://masttest.stsci.edu/). By default the downloaded files go to your\n",
    "temp directory, and thus may eventually be garbage collected (deleted) by your system.\n",
    "If you would like to have the file permanently, simply uncomment the second line below\n",
    "and provide the directory path on your system where you would like the file stored.\n",
    "\n",
    "One other thing to note about retrieving MAST data through astroquery is that it caches\n",
    "the data by default. It is possible for files to be updated in MAST with more recent calibrations\n",
    "but remain the same size, in which case your local cached file would not be replaced by the new\n",
    "version. You can turn off caching by setting `cache=False` in the `download_file` call to\n",
    "force it to re-download the file if desired.\n",
    "\n",
    "In this example, we use two of the JWST NIRCam\n",
    "observations of the Cartwheel Galaxy. These are large files (~500 MB each), so they make take\n",
    "some time to download, but after the first time running this notebook they will be cached locally.\n",
    "If you want to look at images from other filters, you can uncomment the lines with those filenames.\n",
    "If you want an example using smaller files, see the ImvizDitheredExample notebook, which\n",
    "includes the same workflow as this one, but using two HST ACS files that are much smaller\n",
    "than the JWST files used here.\n",
    "\n",
    "After downloading, each file is loaded into Imviz. We ignore some warnings that appear during parsing."
   ]
  },
  {
   "cell_type": "code",
   "execution_count": null,
   "id": "bccca7f4",
   "metadata": {},
   "outputs": [],
   "source": [
    "data_dir = tempfile.gettempdir()\n",
    "#data_dir = \"/Users/username/Data/\"\n",
    "\n",
    "files = ['jw02727-o002_t062_nircam_clear-f090w_i2d.fits',\n",
    "         #'jw02727-o002_t062_nircam_clear-f150w_i2d.fits',\n",
    "         #'jw02727-o002_t062_nircam_clear-f200w_i2d.fits',\n",
    "         'jw02727-o002_t062_nircam_clear-f277w_i2d.fits',\n",
    "         #'jw02727-o002_t062_nircam_clear-f356w_i2d.fits',\n",
    "         #'jw02727-o002_t062_nircam_clear-f444w_i2d.fits'\n",
    "        ]\n",
    "\n",
    "for fn in files:\n",
    "    uri = f\"mast:JWST/product/{fn}\"\n",
    "    result = Observations.download_file(uri, local_path=f'{data_dir}/{fn}')\n",
    "    with warnings.catch_warnings():\n",
    "        warnings.simplefilter('ignore')\n",
    "        imviz.load_data(f'{data_dir}/{fn}')"
   ]
  },
  {
   "cell_type": "markdown",
   "id": "e28b9919-6f9e-410c-83f6-554631407d4b",
   "metadata": {},
   "source": [
    "Then, we visualize the data and start off by looking at some of the basic features:"
   ]
  },
  {
   "cell_type": "code",
   "execution_count": null,
   "id": "229d64f3-843f-4a7f-ac98-989f2a95d4c1",
   "metadata": {},
   "outputs": [],
   "source": [
    "# imviz.show()"
   ]
  },
  {
   "cell_type": "markdown",
   "id": "99d4bdef",
   "metadata": {},
   "source": [
    "Alternatively, the data and the configuration can be autodetected and loaded simultaneously by calling `jdaviz.open(f'{data_dir}/{fn}')`"
   ]
  },
  {
   "cell_type": "markdown",
   "id": "3e78efeb",
   "metadata": {},
   "source": [
    "The first thing you will probably notice is that the image doesn't take up the entire viewer area. \n",
    "If you press the \"b\" key to blink to the other loaded image, you will see that this image is \n",
    "zoomed correctly by default. The odd default zoom on the other is because the images are linked\n",
    "by pixel when loaded. We can instead link by WCS (world coordinates) so that the images\n",
    "will be properly aligned:"
   ]
  },
  {
   "cell_type": "code",
   "execution_count": null,
   "id": "548a2866",
   "metadata": {},
   "outputs": [],
   "source": [
    "# imviz.link_data(link_type='wcs')"
   ]
  },
  {
   "cell_type": "markdown",
   "id": "1abb759e",
   "metadata": {},
   "source": [
    "Panning and zooming is possible by showing the viewer toolbar and clicking on the '+'-shaped icon, then dragging around in the image and using scrolling to zoom in and out. To change the stretch and colormap, show the **Layer** options accessible through the last icon in the viewer toolbar.\n",
    "\n",
    "We can also change these programmatically, for example the stretch:"
   ]
  }
 ],
 "metadata": {
  "kernelspec": {
   "display_name": "Python 3 (ipykernel)",
   "language": "python",
   "name": "python3"
  },
  "language_info": {
   "codemirror_mode": {
    "name": "ipython",
    "version": 3
   },
   "file_extension": ".py",
   "mimetype": "text/x-python",
   "name": "python",
   "nbconvert_exporter": "python",
   "pygments_lexer": "ipython3",
   "version": "3.11.5"
  }
 },
 "nbformat": 4,
 "nbformat_minor": 5
}
