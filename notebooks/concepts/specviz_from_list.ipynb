{
 "cells": [
  {
   "cell_type": "markdown",
   "id": "17d43695",
   "metadata": {},
   "source": [
    "# SpectrumList reading by Specviz"
   ]
  },
  {
   "cell_type": "markdown",
   "id": "7d96dae3",
   "metadata": {},
   "source": [
    "This demonstrates the reading of a set of x1d files by specviz, using internally an instance of SpectrumList.\n",
    "\n",
    "The desired result is the combination (splicing) of all spectra in the list."
   ]
  },
  {
   "cell_type": "code",
   "execution_count": null,
   "id": "96971b54",
   "metadata": {},
   "outputs": [],
   "source": [
    "import os\n",
    "import glob\n",
    "import tempfile\n",
    "import urllib\n",
    "import tarfile\n",
    "from zipfile import ZipFile\n",
    "\n",
    "from astropy.utils.data import download_file\n",
    "\n",
    "from specutils import SpectrumList\n",
    "\n",
    "from jdaviz import Specviz"
   ]
  },
  {
   "cell_type": "code",
   "execution_count": null,
   "id": "5dbebe90",
   "metadata": {},
   "outputs": [],
   "source": [
    "# Unzip files if they haven't already been unzipped\n",
    "if os.path.exists(\"reduced/\"):\n",
    "    print(\"Pipeline 3 Data Exists\")\n",
    "else:\n",
    "    url = 'https://data.science.stsci.edu/redirect/JWST/jwst-data_analysis_tools/MRS_Mstar_analysis/reduced.tar.gz'\n",
    "    urllib.request.urlretrieve(url, './reduced.tar.gz')\n",
    "\n",
    "    tar = tarfile.open('./reduced.tar.gz', \"r:gz\")\n",
    "    tar.extractall()\n",
    "    tar.close()"
   ]
  },
  {
   "cell_type": "code",
   "execution_count": null,
   "id": "f5657b71",
   "metadata": {
    "scrolled": false
   },
   "outputs": [],
   "source": [
    "specviz = Specviz()\n",
    "specviz.show()"
   ]
  },
  {
   "cell_type": "code",
   "execution_count": null,
   "id": "4b3a8944",
   "metadata": {
    "scrolled": false
   },
   "outputs": [],
   "source": [
    "specviz.load_data('reduced/')"
   ]
  },
  {
   "cell_type": "code",
   "execution_count": null,
   "id": "e03a3364",
   "metadata": {},
   "outputs": [],
   "source": []
  }
 ],
 "metadata": {
  "kernelspec": {
   "display_name": "Python 3 (ipykernel)",
   "language": "python",
   "name": "python3"
  },
  "language_info": {
   "codemirror_mode": {
    "name": "ipython",
    "version": 3
   },
   "file_extension": ".py",
   "mimetype": "text/x-python",
   "name": "python",
   "nbconvert_exporter": "python",
   "pygments_lexer": "ipython3",
   "version": "3.9.7"
  }
 },
 "nbformat": 4,
 "nbformat_minor": 5
}
