{
 "cells": [
  {
   "cell_type": "markdown",
   "id": "ba79dc9f-5bbb-453e-be66-9d2e13253caa",
   "metadata": {},
   "source": [
    "### Image rotation in Imviz"
   ]
  },
  {
   "cell_type": "code",
   "execution_count": null,
   "id": "f71fa4c3-1746-4bc2-9854-98eed319d155",
   "metadata": {
    "tags": []
   },
   "outputs": [],
   "source": [
    "import numpy as np\n",
    "from astropy.coordinates import SkyCoord\n",
    "import astropy.units as u\n",
    "from astropy.utils.data import download_file\n",
    "\n",
    "from astroquery.mast import Observations\n",
    "\n",
    "from jdaviz import Imviz"
   ]
  },
  {
   "cell_type": "code",
   "execution_count": null,
   "id": "8c63b7c3-cdf6-4c90-b978-1864fb4956f1",
   "metadata": {},
   "outputs": [],
   "source": [
    "cwd = './.'\n",
    "\n",
    "uris = [\n",
    "    'mast:HST/product/j9dk11010_drz.fits',\n",
    "    'mast:HST/product/j9dk11020_drz.fits',\n",
    "    'mast:JWST/product/jw02731-o001_t017_nircam_clear-f200w_i2d.fits',\n",
    "    'mast:jwst/product/jw02731-o001_t017_nircam_clear-f187n_i2d.fits'\n",
    "]\n",
    "\n",
    "for uri in uris:\n",
    "    path = cwd + uri.split('/')[-1]\n",
    "    Observations.download_file(uri, local_path=path)\n",
    "\n",
    "tess_path = download_file(\n",
    "    'https://mast.stsci.edu/api/v0.1/Download/file/' + \n",
    "    '?uri=mast:TESS/product/tess2023107122157-s0064-3-2-0257-s_ffic.fits', \n",
    "    cache=True\n",
    ")"
   ]
  },
  {
   "cell_type": "code",
   "execution_count": null,
   "id": "401af77b-907a-4dbc-bdb0-b60501f270e9",
   "metadata": {
    "tags": []
   },
   "outputs": [],
   "source": [
    "imviz = Imviz()\n",
    "\n",
    "paths = [\n",
    "    [cwd + 'jw02731-o001_t017_nircam_clear-f200w_i2d.fits', 'JWST/NIRCam F200W'],\n",
    "    [cwd + 'jw02731-o001_t017_nircam_clear-f187n_i2d.fits', 'JWST/NIRCam F187W'],\n",
    "    [cwd + 'j9dk11010_drz.fits', 'HST/ACS F658N (1)'],\n",
    "    [cwd + 'j9dk11020_drz.fits', 'HST/ACS F658N (2)'],\n",
    "    [tess_path, 'TESS FFI']\n",
    "]\n",
    "load_order = [0, 1, 2, 3, 4]\n",
    "\n",
    "with imviz.batch_load():\n",
    "    for path, data_label in np.array(paths)[load_order]:\n",
    "        imviz.load_data(path, data_label=data_label)\n",
    "\n",
    "po = imviz.plugins['Plot Options']\n",
    "po.image_color_mode = 'Monochromatic'\n",
    "\n",
    "colors = np.array(['r', '#40eb34', '#03dbfc', '#03dbfc', 'y'])[load_order]\n",
    "vmins = np.array([1.2, 5, 0, 0, 0])[load_order]\n",
    "vmaxes = np.array([8, 150, 3, 3, 3e4])[load_order]\n",
    "alphas = np.array([1, 1, 1, 1, 0.7])[load_order]\n",
    "\n",
    "zip_items = zip(\n",
    "    imviz.app.data_collection, colors, alphas, vmins, vmaxes\n",
    ")\n",
    "\n",
    "for i, (data, color, alpha, vmin, vmax) in enumerate(zip_items):\n",
    "    if not data.label.startswith(\"CCW\"):\n",
    "        po.layer = data.label\n",
    "        po.stretch_function = 'arcsinh'\n",
    "        po.image_opacity = alpha\n",
    "        po.image_contrast = 1.15\n",
    "        po.image_color = color\n",
    "        po.stretch_vmin = vmin\n",
    "        po.stretch_vmax = vmax\n",
    "\n",
    "imviz.link_data(link_type='wcs')\n",
    "imviz.show('sidecar:split-right', height=1200)\n",
    "\n",
    "near_nebula = SkyCoord(159.22, -58.63, unit=u.deg)\n",
    "imviz.default_viewer.center_on(near_nebula)"
   ]
  },
  {
   "cell_type": "markdown",
   "id": "506f619b-f0a0-495c-8dd3-eec9a5d94896",
   "metadata": {},
   "source": [
    "### Generate a set of WCS-only layers\n",
    "\n",
    "Load the presets for WCS-only layers:"
   ]
  },
  {
   "cell_type": "code",
   "execution_count": null,
   "id": "5f3a4f56-305e-4010-9f95-68b369737463",
   "metadata": {
    "tags": []
   },
   "outputs": [],
   "source": [
    "lc = imviz.plugins['Links Control']\n",
    "\n",
    "# make option for: North-up, East left\n",
    "lc._obj.create_north_up_east_left()\n",
    "\n",
    "# make option for: North-up, East right\n",
    "lc._obj.create_north_up_east_right()\n",
    "\n",
    "lc.open_in_tray()"
   ]
  },
  {
   "cell_type": "markdown",
   "id": "8fc97a58-fadd-49d1-8829-da7478f1674e",
   "metadata": {},
   "source": [
    "### Making WCS-only layers visible for debugging\n",
    "\n",
    "WCS-only reference data layers meant for linking/rotation will be invisible in the viewer, unless the user goes through the API to make them visible. Here's how you could do that, if you wanted to check where the rotated WCS lands in the FOV:"
   ]
  },
  {
   "cell_type": "code",
   "execution_count": null,
   "id": "20150693-a68f-42be-befa-ac5145e65876",
   "metadata": {
    "tags": []
   },
   "outputs": [],
   "source": [
    "make_wcs_only_layers_visible = False\n",
    "\n",
    "for i, layer in enumerate(imviz.default_viewer.layers):\n",
    "    if hasattr(layer.layer, 'meta') and layer.layer.meta.get('_WCS_ONLY', False):\n",
    "        layer.visible = make_wcs_only_layers_visible\n",
    "        layer.update()"
   ]
  },
  {
   "cell_type": "markdown",
   "id": "4129ca07-370b-4ea9-a21d-b20802560ee6",
   "metadata": {},
   "source": [
    "### Multiple viewers with their own orientations\n",
    "\n",
    "New viewers can be added and given separate rotation settings: "
   ]
  },
  {
   "cell_type": "code",
   "execution_count": null,
   "id": "9a56fc3e-e810-465b-b4c2-73c3c24c3e19",
   "metadata": {
    "tags": []
   },
   "outputs": [],
   "source": [
    "# create new viewer:\n",
    "imviz.create_image_viewer('imviz-1')\n",
    "\n",
    "# add a data entry into the new viewer:\n",
    "imviz.app.add_data_to_viewer('imviz-1', imviz.app.data_collection[1].label)"
   ]
  },
  {
   "cell_type": "code",
   "execution_count": null,
   "id": "c926c5ff-b9fc-4fc6-8cf8-95fe631b86af",
   "metadata": {},
   "outputs": [],
   "source": []
  }
 ],
 "metadata": {
  "kernelspec": {
   "display_name": "Python 3 (ipykernel)",
   "language": "python",
   "name": "python3"
  },
  "language_info": {
   "codemirror_mode": {
    "name": "ipython",
    "version": 3
   },
   "file_extension": ".py",
   "mimetype": "text/x-python",
   "name": "python",
   "nbconvert_exporter": "python",
   "pygments_lexer": "ipython3",
   "version": "3.11.3"
  }
 },
 "nbformat": 4,
 "nbformat_minor": 5
}
