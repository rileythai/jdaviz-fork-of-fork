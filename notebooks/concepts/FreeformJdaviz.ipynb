{
 "cells": [
  {
   "cell_type": "code",
   "execution_count": null,
   "id": "2fd73836",
   "metadata": {},
   "outputs": [],
   "source": [
    "from jdaviz import Freeform"
   ]
  },
  {
   "cell_type": "code",
   "execution_count": null,
   "id": "1fc913b3",
   "metadata": {},
   "outputs": [],
   "source": [
    "viz = Freeform()"
   ]
  },
  {
   "cell_type": "code",
   "execution_count": null,
   "id": "d0e74e45",
   "metadata": {
    "scrolled": false
   },
   "outputs": [],
   "source": [
    "viz.show()"
   ]
  },
  {
   "cell_type": "code",
   "execution_count": null,
   "id": "16b77b4a",
   "metadata": {},
   "outputs": [],
   "source": [
    "from astropy.utils.data import download_file\n",
    "fn = download_file('https://data.sdss.org/sas/dr14/sdss/spectro/redux/26/spectra/0751/spec-0751-52251-0160.fits', cache=True)\n",
    "viz.app.load_data(fn, 'specviz-spectrum1d-parser', data_label=\"Test Spectrum\", format=\"SDSS-III/IV spec\", show_in_viewer=False)"
   ]
  },
  {
   "cell_type": "code",
   "execution_count": null,
   "id": "e10723f4",
   "metadata": {},
   "outputs": [],
   "source": [
    "acs_47tuc_1 = download_file('https://mast.stsci.edu/api/v0.1/Download/file?uri=mast:HST/product/jbqf03gjq_flc.fits', cache=True)\n",
    "viz.app.load_data(acs_47tuc_1)"
   ]
  },
  {
   "cell_type": "code",
   "execution_count": null,
   "id": "74bd6dc9",
   "metadata": {},
   "outputs": [],
   "source": []
  }
 ],
 "metadata": {
  "kernelspec": {
   "display_name": "Python 3 (ipykernel)",
   "language": "python",
   "name": "python3"
  },
  "language_info": {
   "codemirror_mode": {
    "name": "ipython",
    "version": 3
   },
   "file_extension": ".py",
   "mimetype": "text/x-python",
   "name": "python",
   "nbconvert_exporter": "python",
   "pygments_lexer": "ipython3",
   "version": "3.10.8"
  }
 },
 "nbformat": 4,
 "nbformat_minor": 5
}
