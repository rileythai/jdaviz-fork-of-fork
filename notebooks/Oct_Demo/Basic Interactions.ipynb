{
 "cells": [
  {
   "cell_type": "code",
   "execution_count": null,
   "metadata": {
    "scrolled": false
   },
   "outputs": [],
   "source": [
    "from IPython.core.display import display, HTML\n",
    "display(HTML(\"<style>.container { width:100% !important; }</style>\"))"
   ]
  },
  {
   "cell_type": "code",
   "execution_count": null,
   "metadata": {
    "scrolled": false
   },
   "outputs": [],
   "source": [
    "# First we import the SpecViz helper class\n",
    "from jdaviz import SpecViz\n",
    "\n",
    "# Now we create an instance of the SpecViz helper class and call viz.app to instantiate the app\n",
    "viz = SpecViz()\n",
    "viz.app"
   ]
  },
  {
   "cell_type": "code",
   "execution_count": null,
   "metadata": {
    "scrolled": false
   },
   "outputs": [],
   "source": [
    "# Currently we can only load local files, so here we download an SDSS file containing a spectrum and load it into the app\n",
    "from astropy.utils.data import download_file\n",
    "\n",
    "fn = download_file('https://data.sdss.org/sas/dr14/sdss/spectro/redux/26/spectra/0751/spec-0751-52251-0160.fits', cache=True)\n",
    "# viz.load_spectrum(fn, \"Demo SDSS\", format=\"SDSS-III/IV spec\")\n",
    "viz.load_spectrum(fn, \"Demo SDSS\")"
   ]
  },
  {
   "cell_type": "code",
   "execution_count": null,
   "metadata": {
    "scrolled": false
   },
   "outputs": [],
   "source": [
    "# One can set the plot bounds manually in the notebook\n",
    "viz.x_limits(x_min=6600, x_max = 7100)"
   ]
  },
  {
   "cell_type": "code",
   "execution_count": null,
   "metadata": {
    "scrolled": false
   },
   "outputs": [],
   "source": [
    "# One can also reset the bounds to the default in the notebook\n",
    "viz.autoscale_x()\n",
    "viz.autoscale_y()"
   ]
  },
  {
   "cell_type": "code",
   "execution_count": null,
   "metadata": {
    "scrolled": false
   },
   "outputs": [],
   "source": [
    "# Here we create another spectrum to show how subsequent data loads behave\n",
    "from specutils import Spectrum1D\n",
    "from astropy.modeling.models import Gaussian1D\n",
    "import numpy as np\n",
    "import astropy.units as u\n",
    "\n",
    "y = Gaussian1D(mean=50, stddev=20)(np.arange(100))*100 + np.random.sample(100)*20 + 100\n",
    "spec1 = Spectrum1D(flux=y * u.Jy, spectral_axis=np.arange(5000,5500,5) * u.AA)\n",
    "viz.load_spectrum(spec1, \"Dummy Spectrum\")"
   ]
  },
  {
   "cell_type": "code",
   "execution_count": null,
   "metadata": {
    "scrolled": false
   },
   "outputs": [],
   "source": [
    "# It's easy to get data out of the app\n",
    "data = viz.get_spectra()\n",
    "data.keys()"
   ]
  },
  {
   "cell_type": "code",
   "execution_count": null,
   "metadata": {
    "scrolled": false
   },
   "outputs": [],
   "source": [
    "# We can see that the data is translated to a Spectrum1D object by default\n",
    "data[\"Model\"]"
   ]
  },
  {
   "cell_type": "code",
   "execution_count": null,
   "metadata": {
    "scrolled": false
   },
   "outputs": [],
   "source": [
    "# Subsets still include all the data, but have a mask attribute defining the data we want\n",
    "data[\"Subset 1\"].mask"
   ]
  },
  {
   "cell_type": "code",
   "execution_count": null,
   "metadata": {
    "scrolled": false
   },
   "outputs": [],
   "source": [
    "# Let's get out our continuum model and subtract it from our data, then add that to the viewer\n",
    "from specutils import Spectrum1D\n",
    "subtracted_flux = data[\"Demo SDSS\"].flux - data[\"Model\"].flux\n",
    "subtracted_spec = Spectrum1D(flux=subtracted_flux, spectral_axis=data[\"Demo SDSS\"].spectral_axis)"
   ]
  },
  {
   "cell_type": "code",
   "execution_count": null,
   "metadata": {
    "scrolled": false
   },
   "outputs": [],
   "source": [
    "viz.load_spectrum(subtracted_spec, \"Continuum Subtracted Spectrum\", show_in_viewer=False)"
   ]
  },
  {
   "cell_type": "code",
   "execution_count": null,
   "metadata": {
    "scrolled": false
   },
   "outputs": [],
   "source": [
    "viz.app.get_viewer(\"spectrum-viewer\").figure.marks"
   ]
  },
  {
   "cell_type": "code",
   "execution_count": null,
   "metadata": {
    "scrolled": false
   },
   "outputs": [],
   "source": []
  }
 ],
 "metadata": {
  "kernelspec": {
   "display_name": "Python 3",
   "language": "python",
   "name": "python3"
  },
  "language_info": {
   "codemirror_mode": {
    "name": "ipython",
    "version": 3
   },
   "file_extension": ".py",
   "mimetype": "text/x-python",
   "name": "python",
   "nbconvert_exporter": "python",
   "pygments_lexer": "ipython3",
   "version": "3.8.5"
  },
  "toc": {
   "base_numbering": 1,
   "nav_menu": {},
   "number_sections": false,
   "sideBar": false,
   "skip_h1_title": false,
   "title_cell": "Table of Contents",
   "title_sidebar": "Contents",
   "toc_cell": false,
   "toc_position": {},
   "toc_section_display": false,
   "toc_window_display": false
  }
 },
 "nbformat": 4,
 "nbformat_minor": 4
}
