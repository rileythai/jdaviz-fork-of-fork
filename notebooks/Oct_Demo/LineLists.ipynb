{
 "cells": [
  {
   "cell_type": "raw",
   "metadata": {},
   "source": []
  },
  {
   "cell_type": "code",
   "execution_count": 1,
   "metadata": {
    "ExecuteTime": {
     "end_time": "2020-12-14T16:46:11.670152Z",
     "start_time": "2020-12-14T16:46:11.662064Z"
    },
    "scrolled": false
   },
   "outputs": [
    {
     "data": {
      "text/html": [
       "<style>.container { width:100% !important; }</style>"
      ],
      "text/plain": [
       "<IPython.core.display.HTML object>"
      ]
     },
     "metadata": {},
     "output_type": "display_data"
    }
   ],
   "source": [
    "from IPython.core.display import display, HTML\n",
    "display(HTML(\"<style>.container { width:100% !important; }</style>\"))"
   ]
  },
  {
   "cell_type": "code",
   "execution_count": 2,
   "metadata": {
    "ExecuteTime": {
     "end_time": "2020-12-14T16:46:14.137871Z",
     "start_time": "2020-12-14T16:46:11.850383Z"
    },
    "scrolled": false
   },
   "outputs": [
    {
     "name": "stderr",
     "output_type": "stream",
     "text": [
      "/Users/rosteen/opt/anaconda3/envs/viz_dev/lib/python3.8/site-packages/glue/external/echo/__init__.py:3: UserWarning: glue.external.echo is deprecated, import from echo directly instead\n",
      "  warnings.warn('glue.external.echo is deprecated, import from echo directly instead')\n"
     ]
    },
    {
     "data": {
      "application/vnd.jupyter.widget-view+json": {
       "model_id": "cbf2391ffaf948e7989bf8677f5ff8b8",
       "version_major": 2,
       "version_minor": 0
      },
      "text/plain": [
       "Application(components={'g-viewer-tab': '<template>\\n  <component :is=\"stack.container\">\\n    <g-viewer-tab\\n …"
      ]
     },
     "metadata": {},
     "output_type": "display_data"
    }
   ],
   "source": [
    "from jdaviz import SpecViz\n",
    "\n",
    "specviz = SpecViz()\n",
    "specviz.app"
   ]
  },
  {
   "cell_type": "code",
   "execution_count": 3,
   "metadata": {
    "ExecuteTime": {
     "end_time": "2020-12-14T16:46:14.224898Z",
     "start_time": "2020-12-14T16:46:14.139408Z"
    },
    "scrolled": false
   },
   "outputs": [
    {
     "name": "stderr",
     "output_type": "stream",
     "text": [
      "WARNING: UnitsWarning: '1E-17 erg/cm^2/s/Angstrom' contains multiple slashes, which is discouraged by the FITS standard [astropy.units.format.generic]\n",
      "WARNING:astropy:UnitsWarning: '1E-17 erg/cm^2/s/Angstrom' contains multiple slashes, which is discouraged by the FITS standard\n"
     ]
    },
    {
     "name": "stdout",
     "output_type": "stream",
     "text": [
      "Spectrum1D (length=3841)\n",
      "flux:             [ 30.597 1e-17 erg / (Angstrom cm2 s), ..., 51.703 1e-17 erg / (Angstrom cm2 s) ],  mean=51.88 1e-17 erg / (Angstrom cm2 s)\n",
      "spectral axis:    [ 3799.3 Angstrom, ..., 9198.1 Angstrom ],  mean=6106.1 Angstrom\n",
      "uncertainty:      [ InverseVariance(0.06440803), ..., InverseVariance(0.18243204) ]\n"
     ]
    }
   ],
   "source": [
    "from astropy.utils.data import download_file\n",
    "\n",
    "# This file is originally from https://data.sdss.org/sas/dr14/manga/spectro/redux/v2_1_2/7495/stack/manga-7495-12704-LOGCUBE.fits.gz\n",
    "# but has been modified to correct some inconsistencies in the way units are parsed\n",
    "#fn = download_file('https://stsci.box.com/shared/static/28a88k1qfipo4yxc4p4d40v4axtlal8y.fits', cache=True)\n",
    "#specviz.load_spectrum(fn, \"myfile\", )\n",
    "\n",
    "fn = download_file('https://data.sdss.org/sas/dr14/sdss/spectro/redux/26/spectra/0751/spec-0751-52251-0160.fits', cache=True)\n",
    "specviz.load_spectrum(fn, \"Demo SDSS\", format=\"SDSS-III/IV spec\")"
   ]
  },
  {
   "cell_type": "markdown",
   "metadata": {},
   "source": [
    "### Adding line lists via code in cells\n",
    "\n",
    "Line lists are expected to be input as an astropy `QTable`, with at minimum \"linename\" and \"rest\" fields. The user can optionally specify a \"color\" column if they want each line to be a different color. \n",
    "\n",
    "The first step is to load the line list into the specviz instance using `specviz.load_line_list(lines)`. A line list as described as above is required, and there is an optional `replace` parameter that, if set to True, replaces any existing lines with those input. The default behavior is to add newly loaded lines to the existing list.\n",
    "\n",
    "Note that the line list functionality is all actually happening under the hood in the spectrum viewer (and thus could also be used in e.g. Cubeviz); the Specviz methods are convenience wrappers. "
   ]
  },
  {
   "cell_type": "code",
   "execution_count": null,
   "metadata": {},
   "outputs": [],
   "source": [
    "from astropy.table import QTable\n",
    "import astropy.units as u\n",
    "\n",
    "lt = QTable()\n",
    "lt['linename'] = ['O III','Halpha']\n",
    "lt['rest'] = [5007, 6563]*u.AA\n",
    "lt['redshift'] = u.Quantity(0.046)\n",
    "\n",
    "specviz.load_line_list(lt)\n",
    "specviz.spectral_lines"
   ]
  },
  {
   "cell_type": "markdown",
   "metadata": {},
   "source": [
    "If the loaded table has a `listname` column, the lines will show up in the Line List UI under that heading. Otherwise, they will by default show up under the `Custom` heading."
   ]
  },
  {
   "cell_type": "code",
   "execution_count": null,
   "metadata": {},
   "outputs": [],
   "source": [
    "lt = QTable()\n",
    "lt['linename'] = ['Test1', 'Test2']\n",
    "lt['rest'] = [6.8e-7, 4.4e-7]*u.m\n",
    "lt['redshift'] = u.Quantity(0.046)\n",
    "lt['listname'] = \"Test\"\n",
    "\n",
    "specviz.load_line_list(lt)\n",
    "specviz.spectral_lines"
   ]
  },
  {
   "cell_type": "markdown",
   "metadata": {},
   "source": [
    "Adding the lines to the plot is as simple as calling the `plot_spectral_lines` function:"
   ]
  },
  {
   "cell_type": "code",
   "execution_count": null,
   "metadata": {},
   "outputs": [],
   "source": [
    "specviz.plot_spectral_lines()"
   ]
  },
  {
   "cell_type": "markdown",
   "metadata": {},
   "source": [
    "And one can erase all spectral lines from the plot as below:"
   ]
  },
  {
   "cell_type": "code",
   "execution_count": null,
   "metadata": {},
   "outputs": [],
   "source": [
    "specviz.erase_spectral_lines()"
   ]
  },
  {
   "cell_type": "markdown",
   "metadata": {},
   "source": [
    "### Preset line lists\n",
    "\n",
    "We also include with the jdaviz package a set of predefined line lists that can be loaded and plotted by the user. The names of these lists, which can be accessed via `specviz.available_linelists`, can be passed to `specviz.load_line_list` instead of passing in a QTable. The `replace` keyword still works as above."
   ]
  },
  {
   "cell_type": "code",
   "execution_count": null,
   "metadata": {},
   "outputs": [],
   "source": [
    "specviz.available_linelists"
   ]
  },
  {
   "cell_type": "code",
   "execution_count": null,
   "metadata": {},
   "outputs": [],
   "source": [
    "specviz.load_line_list(\"Common Nebular\", replace=True)"
   ]
  },
  {
   "cell_type": "code",
   "execution_count": null,
   "metadata": {},
   "outputs": [],
   "source": [
    "specviz.spectral_lines"
   ]
  },
  {
   "cell_type": "code",
   "execution_count": null,
   "metadata": {},
   "outputs": [],
   "source": [
    "specviz.plot_spectral_lines()"
   ]
  },
  {
   "cell_type": "code",
   "execution_count": null,
   "metadata": {},
   "outputs": [],
   "source": [
    "specviz.spectral_lines[\"redshift\"] = u.Quantity(0.87)\n",
    "specviz.spectral_lines[\"redshift\"] "
   ]
  },
  {
   "cell_type": "code",
   "execution_count": null,
   "metadata": {},
   "outputs": [],
   "source": [
    "specviz.spectral_lines[\"redshift\"] "
   ]
  },
  {
   "cell_type": "code",
   "execution_count": 4,
   "metadata": {
    "ExecuteTime": {
     "end_time": "2020-12-14T16:47:32.186121Z",
     "start_time": "2020-12-14T16:47:32.183783Z"
    }
   },
   "outputs": [],
   "source": [
    "d = specviz.app.data_collection[0]"
   ]
  },
  {
   "cell_type": "code",
   "execution_count": 6,
   "metadata": {
    "ExecuteTime": {
     "end_time": "2020-12-14T16:47:37.087836Z",
     "start_time": "2020-12-14T16:47:37.082658Z"
    }
   },
   "outputs": [
    {
     "data": {
      "text/latex": [
       "$0.22 \\; \\mathrm{}$"
      ],
      "text/plain": [
       "<Quantity 0.22>"
      ]
     },
     "execution_count": 6,
     "metadata": {},
     "output_type": "execute_result"
    }
   ],
   "source": [
    "#d.meta[\"redshift\"] = 0.5\n",
    "d.coords.spectral_axis.redshift"
   ]
  },
  {
   "cell_type": "code",
   "execution_count": null,
   "metadata": {},
   "outputs": [],
   "source": [
    "d.get_object()"
   ]
  },
  {
   "cell_type": "code",
   "execution_count": null,
   "metadata": {},
   "outputs": [],
   "source": [
    "from specutils import Spectrum1D\n",
    "f = Spectrum1D.read(fn)\n",
    "f"
   ]
  },
  {
   "cell_type": "code",
   "execution_count": null,
   "metadata": {},
   "outputs": [],
   "source": [
    "f.redshift = 1"
   ]
  },
  {
   "cell_type": "code",
   "execution_count": null,
   "metadata": {},
   "outputs": [],
   "source": [
    "f.meta"
   ]
  },
  {
   "cell_type": "code",
   "execution_count": null,
   "metadata": {},
   "outputs": [],
   "source": [
    "specviz.get_spectra()"
   ]
  },
  {
   "cell_type": "code",
   "execution_count": null,
   "metadata": {},
   "outputs": [],
   "source": [
    "from glue_astronomy.spectral_coordinates import SpectralCoordinates\n",
    "from specutils import SpectralAxis\n",
    "\n",
    "a = d.coords.spectral_axis\n",
    "type(a)"
   ]
  },
  {
   "cell_type": "code",
   "execution_count": null,
   "metadata": {},
   "outputs": [],
   "source": [
    "b = SpectralAxis(a, redshift=1.2)\n",
    "b.redshift"
   ]
  },
  {
   "cell_type": "code",
   "execution_count": null,
   "metadata": {},
   "outputs": [],
   "source": [
    "c = SpectralCoordinates(b)\n",
    "c.spectral_axis.redshift"
   ]
  },
  {
   "cell_type": "code",
   "execution_count": null,
   "metadata": {},
   "outputs": [],
   "source": [
    "d.coords = c"
   ]
  },
  {
   "cell_type": "code",
   "execution_count": null,
   "metadata": {},
   "outputs": [],
   "source": [
    "d.coords.spectral_axis.redshift"
   ]
  },
  {
   "cell_type": "code",
   "execution_count": 9,
   "metadata": {
    "ExecuteTime": {
     "end_time": "2020-12-14T16:48:05.734426Z",
     "start_time": "2020-12-14T16:48:05.729897Z"
    }
   },
   "outputs": [],
   "source": [
    "test = specviz.app.get_data_from_viewer(\"spectrum-viewer\")[\"Demo SDSS\"]"
   ]
  },
  {
   "cell_type": "code",
   "execution_count": 10,
   "metadata": {
    "ExecuteTime": {
     "end_time": "2020-12-14T16:48:06.056848Z",
     "start_time": "2020-12-14T16:48:06.050509Z"
    }
   },
   "outputs": [
    {
     "data": {
      "text/plain": [
       "<Spectrum1D(flux=<Quantity [30.596626, 33.245728, 35.89512 , ..., 53.27969 , 50.236168,\n",
       "           51.702717] 1e-17 erg / (Angstrom cm2 s)>, spectral_axis=<SpectralAxis \n",
       "   (observer to target:\n",
       "      radial_velocity=58840.4743960778 km / s\n",
       "      redshift=0.21999999999999997)\n",
       "  [3799.2686, 3800.1426, 3801.0188, ..., 9193.905 , 9196.0205, 9198.141 ] Angstrom>, uncertainty=InverseVariance([0.06440803, 0.        , 0.06292833, ..., 0.2728394 ,\n",
       "                 0.2806295 , 0.18243204]))>"
      ]
     },
     "execution_count": 10,
     "metadata": {},
     "output_type": "execute_result"
    }
   ],
   "source": [
    "test"
   ]
  },
  {
   "cell_type": "code",
   "execution_count": null,
   "metadata": {},
   "outputs": [],
   "source": []
  }
 ],
 "metadata": {
  "kernelspec": {
   "display_name": "Python 3",
   "language": "python",
   "name": "python3"
  },
  "language_info": {
   "codemirror_mode": {
    "name": "ipython",
    "version": 3
   },
   "file_extension": ".py",
   "mimetype": "text/x-python",
   "name": "python",
   "nbconvert_exporter": "python",
   "pygments_lexer": "ipython3",
   "version": "3.8.5"
  }
 },
 "nbformat": 4,
 "nbformat_minor": 4
}
