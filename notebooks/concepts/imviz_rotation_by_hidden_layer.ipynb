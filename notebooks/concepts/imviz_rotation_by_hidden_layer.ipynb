{
 "cells": [
  {
   "cell_type": "markdown",
   "id": "dcc794dd",
   "metadata": {},
   "source": [
    "This concept notebook is to showcase the underlying machinery that will be used for Imviz image rotation front-end in the future."
   ]
  },
  {
   "cell_type": "code",
   "execution_count": null,
   "id": "c3ee8812",
   "metadata": {},
   "outputs": [],
   "source": [
    "import gwcs\n",
    "import numpy as np\n",
    "from astropy import units as u\n",
    "from astropy.coordinates import ICRS\n",
    "from astropy.modeling import models\n",
    "from astropy.nddata import NDData\n",
    "from astropy.wcs import WCS\n",
    "from gwcs import coordinate_frames as cf\n",
    "\n",
    "from jdaviz import Imviz\n",
    "from jdaviz.configs.imviz.wcs_utils import get_compass_info, _get_rotated_nddata_from_label"
   ]
  },
  {
   "cell_type": "markdown",
   "id": "f6d2f882",
   "metadata": {},
   "source": [
    "These data are from `BaseImviz_WCS_GWCS` test class.\n",
    "\n",
    "Image without any WCS."
   ]
  },
  {
   "cell_type": "code",
   "execution_count": null,
   "id": "12e67f95",
   "metadata": {},
   "outputs": [],
   "source": [
    "np.random.seed(42)\n",
    "arr = np.random.random((10, 8))  # (ny, nx)\n",
    "arr[0, 0] = 10  # Bright corner for sanity check"
   ]
  },
  {
   "cell_type": "markdown",
   "id": "934e4b33",
   "metadata": {},
   "source": [
    "FITS WCS."
   ]
  },
  {
   "cell_type": "code",
   "execution_count": null,
   "id": "c4a41f91",
   "metadata": {},
   "outputs": [],
   "source": [
    "w_fits = WCS({'WCSAXES': 2, 'NAXIS1': 8, 'NAXIS2': 10,\n",
    "              'CRPIX1': 5.0, 'CRPIX2': 5.0,\n",
    "              'PC1_1': -1.14852e-05, 'PC1_2': 7.01477e-06,\n",
    "              'PC2_1': 7.75765e-06, 'PC2_2': 1.20927e-05,\n",
    "              'CDELT1': 1.0, 'CDELT2': 1.0,\n",
    "              'CUNIT1': 'deg', 'CUNIT2': 'deg',\n",
    "              'CTYPE1': 'RA---TAN', 'CTYPE2': 'DEC--TAN',\n",
    "              'CRVAL1': 3.581704851882, 'CRVAL2': -30.39197867265,\n",
    "              'LONPOLE': 180.0, 'LATPOLE': -30.39197867265,\n",
    "              'MJDREF': 0.0, 'RADESYS': 'ICRS'})"
   ]
  },
  {
   "cell_type": "markdown",
   "id": "b27ab66d",
   "metadata": {},
   "source": [
    "GWCS."
   ]
  },
  {
   "cell_type": "code",
   "execution_count": null,
   "id": "57e7a476",
   "metadata": {},
   "outputs": [],
   "source": [
    "shift_by_crpix = models.Shift(-(5 - 1) * u.pix) & models.Shift(-(5 - 1) * u.pix)\n",
    "matrix = np.array([[1.290551569736E-05, 5.9525007864732E-06],\n",
    "                   [5.0226382102765E-06, -1.2644844123757E-05]])\n",
    "rotation = models.AffineTransformation2D(matrix * u.deg, translation=[0, 0] * u.deg)\n",
    "rotation.input_units_equivalencies = {\"x\": u.pixel_scale(1 * (u.deg / u.pix)),\n",
    "                                      \"y\": u.pixel_scale(1 * (u.deg / u.pix))}\n",
    "rotation.inverse = models.AffineTransformation2D(np.linalg.inv(matrix) * u.pix,\n",
    "                                                 translation=[0, 0] * u.pix)\n",
    "rotation.inverse.input_units_equivalencies = {\"x\": u.pixel_scale(1 * (u.pix / u.deg)),\n",
    "                                              \"y\": u.pixel_scale(1 * (u.pix / u.deg))}\n",
    "tan = models.Pix2Sky_TAN()\n",
    "celestial_rotation = models.RotateNative2Celestial(\n",
    "    3.581704851882 * u.deg, -30.39197867265 * u.deg, 180 * u.deg)\n",
    "det2sky = shift_by_crpix | rotation | tan | celestial_rotation\n",
    "det2sky.name = \"linear_transform\"\n",
    "detector_frame = cf.Frame2D(name=\"detector\", axes_names=(\"x\", \"y\"), unit=(u.pix, u.pix))\n",
    "sky_frame = cf.CelestialFrame(reference_frame=ICRS(), name='icrs', unit=(u.deg, u.deg))\n",
    "pipeline = [(detector_frame, det2sky), (sky_frame, None)]\n",
    "w_gwcs = gwcs.WCS(pipeline)\n",
    "w_gwcs.bounding_box = ((0, 8), (0, 10)) * u.pix  # x, y"
   ]
  },
  {
   "cell_type": "markdown",
   "id": "1f7c61f2",
   "metadata": {},
   "source": [
    "Load data into Imviz:\n",
    "\n",
    "1. Data with FITS WCS and unit.\n",
    "2. Data with GWCS (rotated w.r.t. FITS WCS) and no unit.\n",
    "3. Data without WCS nor unit."
   ]
  },
  {
   "cell_type": "code",
   "execution_count": null,
   "id": "4c0ef8db",
   "metadata": {},
   "outputs": [],
   "source": [
    "imviz = Imviz()\n",
    "imviz.load_data(NDData(arr, wcs=w_fits, unit='electron/s'), data_label='fits_wcs')\n",
    "imviz.load_data(NDData(arr, wcs=w_gwcs), data_label='gwcs')\n",
    "imviz.load_data(arr, data_label='no_wcs')\n",
    "imviz.show()"
   ]
  },
  {
   "cell_type": "code",
   "execution_count": null,
   "id": "50abf5e3",
   "metadata": {},
   "outputs": [],
   "source": [
    "imviz.default_viewer.zoom_level = \"fit\""
   ]
  },
  {
   "cell_type": "markdown",
   "id": "b5790cbc",
   "metadata": {},
   "source": [
    "Open up the Compass plugin to see where the celestial axes are, if any.\n",
    "\n",
    "Let's say we want N-up E-left orientation. We generate a fake data with the desired orientation."
   ]
  },
  {
   "cell_type": "code",
   "execution_count": null,
   "id": "59bbfa67",
   "metadata": {},
   "outputs": [],
   "source": [
    "data = imviz.default_viewer.state.reference_data\n",
    "print(data.label)"
   ]
  },
  {
   "cell_type": "code",
   "execution_count": null,
   "id": "7ee76cb1",
   "metadata": {},
   "outputs": [],
   "source": [
    "degn = get_compass_info(data.coords, data.shape)[0] * u.deg\n",
    "print(degn)"
   ]
  },
  {
   "cell_type": "code",
   "execution_count": null,
   "id": "609b67ec",
   "metadata": {},
   "outputs": [],
   "source": [
    "# FIXME: Is degn supposed to be pass-in as-is? How to make it N-up E-left?\n",
    "# For the data in this notebook, pixels in viewer is flipped left-right compared\n",
    "# to what you would expect from Compass plugin.\n",
    "# Maybe we need some hardcoded WCS for N-up E-left/right instead of using _rotated_gwcs()\n",
    "fake_ndd_rotated = _get_rotated_nddata_from_label(imviz.app, data.label, degn)"
   ]
  },
  {
   "cell_type": "markdown",
   "id": "200b334b",
   "metadata": {},
   "source": [
    "Once we have made the Data object with the desired WCS, we can add it to the collection and also the viewer, but do not display it."
   ]
  },
  {
   "cell_type": "code",
   "execution_count": null,
   "id": "5bc5add7",
   "metadata": {},
   "outputs": [],
   "source": [
    "imviz.load_data(fake_ndd_rotated, data_label=imviz.app._wcs_only_label)"
   ]
  },
  {
   "cell_type": "markdown",
   "id": "840fb3ff",
   "metadata": {},
   "source": [
    "Then, we make this Data object with the desired WCS a reference data. When link type is \"pixels\", you should not see any difference (no-op)."
   ]
  },
  {
   "cell_type": "code",
   "execution_count": null,
   "id": "caca4019",
   "metadata": {},
   "outputs": [],
   "source": [
    "imviz.app._change_reference_data(imviz.app._wcs_only_label)\n",
    "print(imviz.default_viewer.state.reference_data.label)"
   ]
  },
  {
   "cell_type": "markdown",
   "id": "34bc933b",
   "metadata": {},
   "source": [
    "If you want the other data with WCS to follow the orientation of this desired WCS, change the link type to \"wcs\". For data without any WCS, they will appear very weird because they are now linked by pixels to a Data with no real pixels.\n",
    "\n",
    "Due to the nature of linking, you have to reset the zoom to see the data again.\n",
    "\n",
    "(Dev note: Attempts to skip over Data without WCS for this step failed.)"
   ]
  },
  {
   "cell_type": "code",
   "execution_count": null,
   "id": "5a5be30d",
   "metadata": {
    "scrolled": true
   },
   "outputs": [],
   "source": [
    "imviz.link_data(link_type=\"wcs\")\n",
    "imviz.default_viewer.zoom_level = \"fit\""
   ]
  },
  {
   "cell_type": "markdown",
   "id": "81d75b05",
   "metadata": {},
   "source": [
    "You can run the following cell any time to inspect the current state of Imviz linking."
   ]
  },
  {
   "cell_type": "code",
   "execution_count": null,
   "id": "367a5839",
   "metadata": {},
   "outputs": [],
   "source": [
    "for elink in imviz.app.data_collection.external_links:\n",
    "    elink_labels = (elink.data1.label, elink.data2.label)\n",
    "    print(elink_labels, elink.__class__.__name__, elink.cids1, elink.cids2)"
   ]
  },
  {
   "cell_type": "markdown",
   "id": "e86f8c3e",
   "metadata": {},
   "source": [
    "Changing back to pixel linking should look as before we link with WCS."
   ]
  },
  {
   "cell_type": "code",
   "execution_count": null,
   "id": "8d701645",
   "metadata": {},
   "outputs": [],
   "source": [
    "imviz.link_data(link_type=\"pixels\")\n",
    "imviz.default_viewer.zoom_level = \"fit\""
   ]
  },
  {
   "cell_type": "markdown",
   "id": "41075ed2",
   "metadata": {},
   "source": [
    "Changing back to WCS linking and switching the reference data back to real data should look as if the fake data with WCS was never there."
   ]
  },
  {
   "cell_type": "code",
   "execution_count": null,
   "id": "59d5550f",
   "metadata": {},
   "outputs": [],
   "source": [
    "imviz.link_data(link_type=\"wcs\")\n",
    "imviz.app._change_reference_data(\"fits_wcs[DATA]\")"
   ]
  },
  {
   "cell_type": "markdown",
   "id": "d032b9e4",
   "metadata": {},
   "source": [
    "In the multi-viewer case, the second viewer is allowed to have a different reference data than the default viewer.\n",
    "\n",
    "Additionally, the \"no_wcs\" case acts weird while blinking in the default viewer while \"_WCS_ONLY\" is set as the reference data in the default viewer and things are linked by WCS; i.e., the Compass would show you are seeing \"no_wcs\" but it no longer disappears from view (it disappeared in the single-viewer case above).\n",
    "\n",
    "(Dev note: Should we add a warning against using this kind of rotation with data without WCS and/or mult-viewer setup?)"
   ]
  },
  {
   "cell_type": "code",
   "execution_count": null,
   "id": "f1095d82",
   "metadata": {},
   "outputs": [],
   "source": [
    "viewer_1 = imviz.create_image_viewer()"
   ]
  },
  {
   "cell_type": "code",
   "execution_count": null,
   "id": "13dd91bf",
   "metadata": {},
   "outputs": [],
   "source": [
    "imviz.app.add_data_to_viewer(\"imviz-1\", \"fits_wcs[DATA]\")"
   ]
  },
  {
   "cell_type": "code",
   "execution_count": null,
   "id": "908125dd",
   "metadata": {},
   "outputs": [],
   "source": [
    "imviz.app._change_reference_data(imviz.app._wcs_only_label)"
   ]
  },
  {
   "cell_type": "code",
   "execution_count": null,
   "id": "e795d62e",
   "metadata": {},
   "outputs": [],
   "source": [
    "print(imviz.default_viewer.state.reference_data.label)\n",
    "print(viewer_1.state.reference_data.label)"
   ]
  },
  {
   "cell_type": "markdown",
   "id": "77e1ca05",
   "metadata": {},
   "source": [
    "Unlike the demo at https://gist.github.com/bmorris3/ee3af2e096fc869899280d645bb1b914, you would find it impossible to rotate the same data at two different angles at once. The best you could hope for is one viewer rotates the data to the desired WCS and the second viewer shows you the original data orientation. This is because that Gist was loading data at different angles as different data entries, which we would not do in production. (Though maybe this can be disproven as this feature is developed more; not sure.)"
   ]
  },
  {
   "cell_type": "markdown",
   "id": "df5e7458",
   "metadata": {},
   "source": [
    "(Dev note: To avoid eating up precious links, when user wants a new rotation angle, we will overwrite the WCS in this fake data and re-link, if that is possible.)\n",
    "\n",
    "(Dev note: After this part, sometimes the viewer display looks very elongated though not always, but the Compass display seems fine. Not sure why.)"
   ]
  },
  {
   "cell_type": "code",
   "execution_count": null,
   "id": "e1387e9d",
   "metadata": {},
   "outputs": [],
   "source": [
    "fake_ndd_rotated_2 = _get_rotated_nddata_from_label(imviz.app, \"fits_wcs[DATA]\", -90 * u.deg)"
   ]
  },
  {
   "cell_type": "code",
   "execution_count": null,
   "id": "1a52a1dc",
   "metadata": {},
   "outputs": [],
   "source": [
    "imviz.app.data_collection[imviz.app._wcs_only_label].coords = fake_ndd_rotated_2.wcs\n",
    "imviz.link_data(link_type=imviz.app._link_type, wcs_use_affine=imviz.app._wcs_use_affine, error_on_fail=True)"
   ]
  },
  {
   "cell_type": "code",
   "execution_count": null,
   "id": "8f2d7671",
   "metadata": {},
   "outputs": [],
   "source": [
    "imviz.default_viewer.zoom_level = \"fit\""
   ]
  },
  {
   "cell_type": "code",
   "execution_count": null,
   "id": "a53d288f",
   "metadata": {},
   "outputs": [],
   "source": []
  }
 ],
 "metadata": {
  "kernelspec": {
   "display_name": "Python 3 (ipykernel)",
   "language": "python",
   "name": "python3"
  },
  "language_info": {
   "codemirror_mode": {
    "name": "ipython",
    "version": 3
   },
   "file_extension": ".py",
   "mimetype": "text/x-python",
   "name": "python",
   "nbconvert_exporter": "python",
   "pygments_lexer": "ipython3",
   "version": "3.10.8"
  }
 },
 "nbformat": 4,
 "nbformat_minor": 5
}
